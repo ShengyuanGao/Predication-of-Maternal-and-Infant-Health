{
 "cells": [
  {
   "cell_type": "code",
   "execution_count": 1,
   "metadata": {},
   "outputs": [],
   "source": [
    "from google.cloud import storage\n",
    "import os\n",
    "from io import BytesIO\n",
    "import pandas as pd\n",
    "import numpy as np\n",
    "\n",
    "#Connect to GCP bucket and assign the bucket_name and specify the file name\n",
    "bucket_name = \"ychou-bucket1\" #Assign the bucket name where your file is stored\n",
    "storage_client = storage.Client()\n",
    "\n",
    "bucket = storage_client.get_bucket(bucket_name)"
   ]
  },
  {
   "cell_type": "code",
   "execution_count": 2,
   "metadata": {},
   "outputs": [],
   "source": [
    "blob = storage.blob.Blob(\"US_births2018_processed3.csv\",bucket)"
   ]
  },
  {
   "cell_type": "code",
   "execution_count": 3,
   "metadata": {},
   "outputs": [],
   "source": [
    "# Convert to a pandas dataframe\n",
    "content = blob.download_as_string()\n",
    "df_processed = pd.read_csv(BytesIO(content))"
   ]
  },
  {
   "cell_type": "code",
   "execution_count": 4,
   "metadata": {},
   "outputs": [],
   "source": [
    "del content"
   ]
  },
  {
   "cell_type": "code",
   "execution_count": null,
   "metadata": {},
   "outputs": [],
   "source": [
    "#df_processed = df_processed.drop(columns = ['Unnamed: 0', 'MAGE_IMPFLG'])"
   ]
  },
  {
   "cell_type": "code",
   "execution_count": null,
   "metadata": {},
   "outputs": [],
   "source": [
    "#df_processed.columns"
   ]
  },
  {
   "cell_type": "code",
   "execution_count": null,
   "metadata": {},
   "outputs": [],
   "source": [
    "#df_processed = df_processed.drop(columns = ['DLMP_MM','DOB_MM', 'DOB_TT','DOB_WK', 'ILLB_R','ILOP_R','ILP_R',\n",
    "#                                           'DWgt_R', 'PWgt_R'])"
   ]
  },
  {
   "cell_type": "code",
   "execution_count": null,
   "metadata": {},
   "outputs": [],
   "source": [
    "#df_processed = df_processed.rename(columns={\"MRAVE6\": \"MRACE6\"})\n",
    "#df_processed.head()"
   ]
  },
  {
   "cell_type": "code",
   "execution_count": null,
   "metadata": {},
   "outputs": [],
   "source": [
    "#df_processed['DMAR'].value_counts()"
   ]
  },
  {
   "cell_type": "code",
   "execution_count": 5,
   "metadata": {},
   "outputs": [],
   "source": [
    "# build model\n",
    "from pyspark.sql.types import *\n",
    "from pyspark import SparkContext\n",
    "from pyspark.sql import SQLContext\n",
    "from pyspark.sql import Row\n",
    "from pyspark.sql import SparkSession"
   ]
  },
  {
   "cell_type": "code",
   "execution_count": 6,
   "metadata": {},
   "outputs": [],
   "source": [
    "spark = SparkSession.builder.appName('ml-bank').getOrCreate()"
   ]
  },
  {
   "cell_type": "code",
   "execution_count": 7,
   "metadata": {},
   "outputs": [],
   "source": [
    "#create spark dataframe\n",
    "df = spark.createDataFrame(df_processed[:1200000])"
   ]
  },
  {
   "cell_type": "code",
   "execution_count": 8,
   "metadata": {},
   "outputs": [],
   "source": [
    "del df_processed"
   ]
  },
  {
   "cell_type": "code",
   "execution_count": 9,
   "metadata": {},
   "outputs": [
    {
     "name": "stdout",
     "output_type": "stream",
     "text": [
      "root\n",
      " |-- Unnamed: 0: long (nullable = true)\n",
      " |-- ATTEND: long (nullable = true)\n",
      " |-- BFACIL: long (nullable = true)\n",
      " |-- BMI: double (nullable = true)\n",
      " |-- CIG_0: long (nullable = true)\n",
      " |-- DBWT: long (nullable = true)\n",
      " |-- DMAR: long (nullable = true)\n",
      " |-- FAGECOMB: long (nullable = true)\n",
      " |-- FEDUC: long (nullable = true)\n",
      " |-- FHISPX: long (nullable = true)\n",
      " |-- FRACE6: long (nullable = true)\n",
      " |-- MAGER: long (nullable = true)\n",
      " |-- MBSTATE_REC: long (nullable = true)\n",
      " |-- MEDUC: long (nullable = true)\n",
      " |-- MHISPX: long (nullable = true)\n",
      " |-- MM_AICU: string (nullable = true)\n",
      " |-- MRACE6: long (nullable = true)\n",
      " |-- M_Ht_In: long (nullable = true)\n",
      " |-- NO_INFEC: long (nullable = true)\n",
      " |-- NO_MMORB: long (nullable = true)\n",
      " |-- NO_RISKS: long (nullable = true)\n",
      " |-- PAY_REC: long (nullable = true)\n",
      " |-- PRECARE: long (nullable = true)\n",
      " |-- PREVIS: long (nullable = true)\n",
      " |-- PRIORDEAD: long (nullable = true)\n",
      " |-- PRIORLIVE: long (nullable = true)\n",
      " |-- PRIORTERM: long (nullable = true)\n",
      " |-- RDMETH_REC: long (nullable = true)\n",
      " |-- RESTATUS: long (nullable = true)\n",
      " |-- RF_CESARN: long (nullable = true)\n",
      " |-- SEX: string (nullable = true)\n",
      " |-- WTGAIN: long (nullable = true)\n",
      " |-- ANOMALY: long (nullable = true)\n",
      " |-- APGAR: long (nullable = true)\n",
      "\n"
     ]
    }
   ],
   "source": [
    "df.printSchema()"
   ]
  },
  {
   "cell_type": "code",
   "execution_count": 10,
   "metadata": {},
   "outputs": [],
   "source": [
    "#Preparing Data for Machine Learning\n",
    "#merges multiple columns into a vectorcolumn.\n",
    "from pyspark.ml.feature import OneHotEncoderEstimator, StringIndexer, VectorAssembler\n",
    "categoricalColumns = ['ATTEND', 'BFACIL', 'DMAR', 'FEDUC', 'FHISPX', 'FRACE6','MBSTATE_REC','MEDUC',\n",
    "                      'MHISPX', 'MM_AICU', 'MRACE6', 'NO_INFEC', 'NO_MMORB', 'NO_RISKS', 'PAY_REC',\n",
    "                      'RDMETH_REC', 'RESTATUS', 'RF_CESARN', 'SEX']\n",
    "stages = []\n",
    "for categoricalCol in categoricalColumns:\n",
    "    stringIndexer = StringIndexer(inputCol = categoricalCol, outputCol = categoricalCol + 'Index')\n",
    "    encoder = OneHotEncoderEstimator(inputCols=[stringIndexer.getOutputCol()], outputCols=[categoricalCol + \"classVec\"])\n",
    "    stages += [stringIndexer, encoder]\n",
    "label_stringIdx = StringIndexer(inputCol = 'ANOMALY', outputCol = 'label')\n",
    "stages += [label_stringIdx]\n",
    "numericCols = ['BMI', 'CIG_0', 'DBWT', 'FAGECOMB', 'MAGER', 'M_Ht_In', 'PRECARE', 'PREVIS', 'PRIORDEAD',\n",
    "              'PRIORLIVE', 'PRIORTERM', 'RF_CESARN', 'WTGAIN']\n",
    "assemblerInputs = [c + \"classVec\" for c in categoricalColumns] + numericCols\n",
    "assembler = VectorAssembler(inputCols=assemblerInputs, outputCol=\"features\")\n",
    "stages += [assembler]"
   ]
  },
  {
   "cell_type": "code",
   "execution_count": 11,
   "metadata": {},
   "outputs": [
    {
     "name": "stdout",
     "output_type": "stream",
     "text": [
      "root\n",
      " |-- label: double (nullable = false)\n",
      " |-- features: vector (nullable = true)\n",
      "\n"
     ]
    }
   ],
   "source": [
    "#chain multiple Transformers and Estimators together to specify our machine learning workflow\n",
    "from pyspark.ml import Pipeline\n",
    "pipeline = Pipeline(stages = stages)\n",
    "pipelineModel = pipeline.fit(df)\n",
    "df = pipelineModel.transform(df)\n",
    "selectedCols = ['label', 'features']\n",
    "df = df.select(selectedCols)\n",
    "df.printSchema()"
   ]
  },
  {
   "cell_type": "code",
   "execution_count": 12,
   "metadata": {},
   "outputs": [],
   "source": [
    "#split train and test\n",
    "train, test = df.randomSplit([0.7, 0.3], seed = 2020)"
   ]
  },
  {
   "cell_type": "code",
   "execution_count": 13,
   "metadata": {},
   "outputs": [],
   "source": [
    "del df"
   ]
  },
  {
   "cell_type": "code",
   "execution_count": 14,
   "metadata": {},
   "outputs": [
    {
     "data": {
      "text/html": [
       "<div>\n",
       "<style scoped>\n",
       "    .dataframe tbody tr th:only-of-type {\n",
       "        vertical-align: middle;\n",
       "    }\n",
       "\n",
       "    .dataframe tbody tr th {\n",
       "        vertical-align: top;\n",
       "    }\n",
       "\n",
       "    .dataframe thead th {\n",
       "        text-align: right;\n",
       "    }\n",
       "</style>\n",
       "<table border=\"1\" class=\"dataframe\">\n",
       "  <thead>\n",
       "    <tr style=\"text-align: right;\">\n",
       "      <th></th>\n",
       "      <th>0</th>\n",
       "    </tr>\n",
       "  </thead>\n",
       "  <tbody>\n",
       "    <tr>\n",
       "      <th>label</th>\n",
       "      <td>0</td>\n",
       "    </tr>\n",
       "    <tr>\n",
       "      <th>features</th>\n",
       "      <td>(1.0, 0.0, 0.0, 0.0, 1.0, 0.0, 0.0, 0.0, 0.0, ...</td>\n",
       "    </tr>\n",
       "  </tbody>\n",
       "</table>\n",
       "</div>"
      ],
      "text/plain": [
       "                                                          0\n",
       "label                                                     0\n",
       "features  (1.0, 0.0, 0.0, 0.0, 1.0, 0.0, 0.0, 0.0, 0.0, ..."
      ]
     },
     "execution_count": 14,
     "metadata": {},
     "output_type": "execute_result"
    }
   ],
   "source": [
    "pd.DataFrame(train.take(1), columns=train.columns).transpose()"
   ]
  },
  {
   "cell_type": "code",
   "execution_count": 15,
   "metadata": {},
   "outputs": [
    {
     "name": "stdout",
     "output_type": "stream",
     "text": [
      "ratio: 181\n"
     ]
    }
   ],
   "source": [
    "from pyspark.sql.functions import col, explode, array, lit\n",
    "major_train = train.filter(col(\"label\") == 0)\n",
    "minor_train = train.filter(col(\"label\") == 1)\n",
    "ratio = int(major_train.count()/minor_train.count())\n",
    "print(\"ratio: {}\".format(ratio))"
   ]
  },
  {
   "cell_type": "code",
   "execution_count": 16,
   "metadata": {},
   "outputs": [],
   "source": [
    "del train"
   ]
  },
  {
   "cell_type": "code",
   "execution_count": 36,
   "metadata": {},
   "outputs": [
    {
     "name": "stdout",
     "output_type": "stream",
     "text": [
      "ratio: 1\n"
     ]
    }
   ],
   "source": [
    "major = train_modified.filter(col(\"label\") == 0)\n",
    "minor = train_modified.filter(col(\"label\") == 1)\n",
    "ratio = int(major.count()/minor.count())\n",
    "print(\"ratio: {}\".format(ratio))"
   ]
  },
  {
   "cell_type": "code",
   "execution_count": 17,
   "metadata": {},
   "outputs": [],
   "source": [
    "a = range(ratio)\n",
    "# duplicate the minority rows\n",
    "over_train = minor_train.withColumn(\"dummy\", explode(array([lit(x) for x in a]))).drop('dummy')\n",
    "# combine both oversampled minority rows and previous majority rows \n",
    "train_modified = major_train.unionAll(over_train)"
   ]
  },
  {
   "cell_type": "code",
   "execution_count": 18,
   "metadata": {},
   "outputs": [],
   "source": [
    "del over_train\n",
    "del major_train"
   ]
  },
  {
   "cell_type": "code",
   "execution_count": null,
   "metadata": {},
   "outputs": [],
   "source": []
  },
  {
   "cell_type": "code",
   "execution_count": 19,
   "metadata": {},
   "outputs": [
    {
     "data": {
      "text/html": [
       "<div>\n",
       "<style scoped>\n",
       "    .dataframe tbody tr th:only-of-type {\n",
       "        vertical-align: middle;\n",
       "    }\n",
       "\n",
       "    .dataframe tbody tr th {\n",
       "        vertical-align: top;\n",
       "    }\n",
       "\n",
       "    .dataframe thead th {\n",
       "        text-align: right;\n",
       "    }\n",
       "</style>\n",
       "<table border=\"1\" class=\"dataframe\">\n",
       "  <thead>\n",
       "    <tr style=\"text-align: right;\">\n",
       "      <th></th>\n",
       "      <th>0</th>\n",
       "    </tr>\n",
       "  </thead>\n",
       "  <tbody>\n",
       "    <tr>\n",
       "      <th>label</th>\n",
       "      <td>0</td>\n",
       "    </tr>\n",
       "    <tr>\n",
       "      <th>features</th>\n",
       "      <td>(1.0, 0.0, 0.0, 0.0, 1.0, 0.0, 0.0, 0.0, 0.0, ...</td>\n",
       "    </tr>\n",
       "  </tbody>\n",
       "</table>\n",
       "</div>"
      ],
      "text/plain": [
       "                                                          0\n",
       "label                                                     0\n",
       "features  (1.0, 0.0, 0.0, 0.0, 1.0, 0.0, 0.0, 0.0, 0.0, ..."
      ]
     },
     "execution_count": 19,
     "metadata": {},
     "output_type": "execute_result"
    }
   ],
   "source": [
    "pd.DataFrame(train_modified.take(1), columns=train_modified.columns).transpose()"
   ]
  },
  {
   "cell_type": "code",
   "execution_count": 20,
   "metadata": {},
   "outputs": [],
   "source": [
    "#LogisticRegression\n",
    "from pyspark.ml.classification import LogisticRegression\n",
    "lr = LogisticRegression(featuresCol = 'features', labelCol = 'label', maxIter=5)\n",
    "lrModel = lr.fit(train_modified)"
   ]
  },
  {
   "cell_type": "code",
   "execution_count": 21,
   "metadata": {},
   "outputs": [
    {
     "data": {
      "image/png": "[encoded data removed]",
      "text/plain": [
       "<Figure size 432x288 with 1 Axes>"
      ]
     },
     "metadata": {
      "needs_background": "light"
     },
     "output_type": "display_data"
    }
   ],
   "source": [
    "import matplotlib.pyplot as plt\n",
    "beta = np.sort(lrModel.coefficients)\n",
    "plt.plot(beta)\n",
    "plt.ylabel('Beta Coefficients')\n",
    "plt.show()"
   ]
  },
  {
   "cell_type": "code",
   "execution_count": 22,
   "metadata": {},
   "outputs": [
    {
     "data": {
      "image/png": "[encoded data removed]",
      "text/plain": [
       "<Figure size 432x288 with 1 Axes>"
      ]
     },
     "metadata": {
      "needs_background": "light"
     },
     "output_type": "display_data"
    },
    {
     "name": "stdout",
     "output_type": "stream",
     "text": [
      "Training set areaUnderROC: 0.6760870917836088\n"
     ]
    }
   ],
   "source": [
    "#ROC LogisticRegression\n",
    "trainingSummary_lr = lrModel.summary\n",
    "roc = trainingSummary_lr.roc.toPandas()\n",
    "plt.plot(roc['FPR'],roc['TPR'])\n",
    "plt.ylabel('False Positive Rate')\n",
    "plt.xlabel('True Positive Rate')\n",
    "plt.title('ROC Curve')\n",
    "plt.show()\n",
    "print('Training set areaUnderROC: ' + str(trainingSummary_lr.areaUnderROC))"
   ]
  },
  {
   "cell_type": "code",
   "execution_count": 23,
   "metadata": {},
   "outputs": [
    {
     "data": {
      "image/png": "[encoded data removed]",
      "text/plain": [
       "<Figure size 432x288 with 1 Axes>"
      ]
     },
     "metadata": {
      "needs_background": "light"
     },
     "output_type": "display_data"
    }
   ],
   "source": [
    "#recall precision LogisticRegression\n",
    "pr = trainingSummary_lr.pr.toPandas()\n",
    "plt.plot(pr['recall'],pr['precision'])\n",
    "plt.ylabel('Precision')\n",
    "plt.xlabel('Recall')\n",
    "plt.show()"
   ]
  },
  {
   "cell_type": "code",
   "execution_count": 24,
   "metadata": {},
   "outputs": [
    {
     "name": "stdout",
     "output_type": "stream",
     "text": [
      "+-----+--------------------+----------+--------------------+\n",
      "|label|       rawPrediction|prediction|         probability|\n",
      "+-----+--------------------+----------+--------------------+\n",
      "|  0.0|[0.58211987902208...|       0.0|[0.64155504446119...|\n",
      "|  0.0|[0.32938861130714...|       0.0|[0.58161060912306...|\n",
      "|  0.0|[0.55452176962117...|       0.0|[0.63518403842233...|\n",
      "|  0.0|[0.27249016935798...|       0.0|[0.56770413547664...|\n",
      "|  0.0|[0.69731964255519...|       0.0|[0.66759323475411...|\n",
      "+-----+--------------------+----------+--------------------+\n",
      "only showing top 5 rows\n",
      "\n"
     ]
    }
   ],
   "source": [
    "#make predictions on test\n",
    "predictions_lr = lrModel.transform(test)\n",
    "predictions_lr.select('label', 'rawPrediction', 'prediction', 'probability').show(5)"
   ]
  },
  {
   "cell_type": "code",
   "execution_count": 25,
   "metadata": {},
   "outputs": [
    {
     "name": "stdout",
     "output_type": "stream",
     "text": [
      "Test Accuracy = 0.761415\n",
      "Test weightedPrecision = 0.990881\n",
      "Test weightedRecall = 0.761415\n",
      "Test F1 = 0.85947\n"
     ]
    }
   ],
   "source": [
    "#caculate accuracy precision recall f1\n",
    "from pyspark.ml.evaluation import MulticlassClassificationEvaluator\n",
    "evaluator1 = MulticlassClassificationEvaluator(labelCol=\"label\", predictionCol=\"prediction\", metricName=\"accuracy\")\n",
    "evaluator2 = MulticlassClassificationEvaluator(labelCol=\"label\", predictionCol=\"prediction\", metricName=\"weightedPrecision\")\n",
    "evaluator3 = MulticlassClassificationEvaluator(labelCol=\"label\", predictionCol=\"prediction\", metricName=\"weightedRecall\")\n",
    "evaluator4 = MulticlassClassificationEvaluator(labelCol=\"label\", predictionCol=\"prediction\", metricName=\"f1\")\n",
    "accuracy = evaluator1.evaluate(predictions_lr)\n",
    "precision = evaluator2.evaluate(predictions_lr)\n",
    "recall = evaluator3.evaluate(predictions_lr)\n",
    "f1 = evaluator4.evaluate(predictions_lr)\n",
    "print(\"Test Accuracy = %g\" % (accuracy))\n",
    "print(\"Test weightedPrecision = %g\" % (precision))\n",
    "print(\"Test weightedRecall = %g\" % (recall))\n",
    "print(\"Test F1 = %g\" % (f1))"
   ]
  },
  {
   "cell_type": "code",
   "execution_count": 26,
   "metadata": {},
   "outputs": [
    {
     "name": "stdout",
     "output_type": "stream",
     "text": [
      "Test Area Under ROC 0.683865592872157\n"
     ]
    }
   ],
   "source": [
    "#evaluate prediction on test\n",
    "from pyspark.ml.evaluation import BinaryClassificationEvaluator\n",
    "evaluator = BinaryClassificationEvaluator()\n",
    "print('Test Area Under ROC', evaluator.evaluate(predictions_lr))"
   ]
  },
  {
   "cell_type": "code",
   "execution_count": 27,
   "metadata": {},
   "outputs": [],
   "source": [
    "del lrModel\n",
    "del predictions_lr"
   ]
  },
  {
   "cell_type": "code",
   "execution_count": 29,
   "metadata": {},
   "outputs": [
    {
     "name": "stdout",
     "output_type": "stream",
     "text": [
      "+-----+--------------------+----------+--------------------+\n",
      "|label|       rawPrediction|prediction|         probability|\n",
      "+-----+--------------------+----------+--------------------+\n",
      "|  0.0|[0.29043851977393...|       0.0|[0.64126918814554...|\n",
      "|  0.0|[0.27944455655749...|       0.0|[0.63619546354965...|\n",
      "|  0.0|[0.29043851977393...|       0.0|[0.64126918814554...|\n",
      "|  0.0|[-2.4857829362536...|       1.0|[0.49998757108532...|\n",
      "|  0.0|[0.29043851977393...|       0.0|[0.64126918814554...|\n",
      "|  0.0|[0.29043851977393...|       0.0|[0.64126918814554...|\n",
      "|  0.0|[0.24480808605512...|       0.0|[0.62001600813355...|\n",
      "|  0.0|[0.01506447362563...|       0.0|[0.50753166708003...|\n",
      "|  0.0|[0.11021146630906...|       0.0|[0.55488369671880...|\n",
      "|  0.0|[0.01217558545484...|       0.0|[0.50608749191722...|\n",
      "+-----+--------------------+----------+--------------------+\n",
      "only showing top 10 rows\n",
      "\n"
     ]
    }
   ],
   "source": [
    "#GBT\n",
    "from pyspark.ml.classification import GBTClassifier\n",
    "gbt = GBTClassifier(maxIter=5)\n",
    "gbtModel = gbt.fit(train_modified)\n",
    "predictions_gbt = gbtModel.transform(test)\n",
    "predictions_gbt.select('label', 'rawPrediction', 'prediction', 'probability').show(10)"
   ]
  },
  {
   "cell_type": "code",
   "execution_count": 31,
   "metadata": {},
   "outputs": [],
   "source": [
    "#check feature importance\n",
    "#write a function to better interpret output\n",
    "def ExtractFeatureImp(featureImp, dataset, featuresCol):\n",
    "    list_extract = []\n",
    "    for i in dataset.schema[featuresCol].metadata[\"ml_attr\"][\"attrs\"]:\n",
    "        list_extract = list_extract + dataset.schema[featuresCol].metadata[\"ml_attr\"][\"attrs\"][i]\n",
    "    varlist = pd.DataFrame(list_extract)\n",
    "    varlist['score'] = varlist['idx'].apply(lambda x: featureImp[x])\n",
    "    return(varlist.sort_values('score', ascending = False))"
   ]
  },
  {
   "cell_type": "code",
   "execution_count": 32,
   "metadata": {},
   "outputs": [
    {
     "data": {
      "text/html": [
       "<div>\n",
       "<style scoped>\n",
       "    .dataframe tbody tr th:only-of-type {\n",
       "        vertical-align: middle;\n",
       "    }\n",
       "\n",
       "    .dataframe tbody tr th {\n",
       "        vertical-align: top;\n",
       "    }\n",
       "\n",
       "    .dataframe thead th {\n",
       "        text-align: right;\n",
       "    }\n",
       "</style>\n",
       "<table border=\"1\" class=\"dataframe\">\n",
       "  <thead>\n",
       "    <tr style=\"text-align: right;\">\n",
       "      <th></th>\n",
       "      <th>idx</th>\n",
       "      <th>name</th>\n",
       "      <th>score</th>\n",
       "    </tr>\n",
       "  </thead>\n",
       "  <tbody>\n",
       "    <tr>\n",
       "      <th>7</th>\n",
       "      <td>81</td>\n",
       "      <td>PREVIS</td>\n",
       "      <td>0.202034</td>\n",
       "    </tr>\n",
       "    <tr>\n",
       "      <th>2</th>\n",
       "      <td>76</td>\n",
       "      <td>DBWT</td>\n",
       "      <td>0.117152</td>\n",
       "    </tr>\n",
       "    <tr>\n",
       "      <th>73</th>\n",
       "      <td>60</td>\n",
       "      <td>RESTATUSclassVec_2</td>\n",
       "      <td>0.081735</td>\n",
       "    </tr>\n",
       "    <tr>\n",
       "      <th>72</th>\n",
       "      <td>59</td>\n",
       "      <td>RESTATUSclassVec_1</td>\n",
       "      <td>0.077273</td>\n",
       "    </tr>\n",
       "    <tr>\n",
       "      <th>4</th>\n",
       "      <td>78</td>\n",
       "      <td>MAGER</td>\n",
       "      <td>0.075905</td>\n",
       "    </tr>\n",
       "    <tr>\n",
       "      <th>86</th>\n",
       "      <td>73</td>\n",
       "      <td>SEXclassVec_M</td>\n",
       "      <td>0.051471</td>\n",
       "    </tr>\n",
       "    <tr>\n",
       "      <th>6</th>\n",
       "      <td>80</td>\n",
       "      <td>PRECARE</td>\n",
       "      <td>0.043032</td>\n",
       "    </tr>\n",
       "    <tr>\n",
       "      <th>9</th>\n",
       "      <td>83</td>\n",
       "      <td>PRIORLIVE</td>\n",
       "      <td>0.035358</td>\n",
       "    </tr>\n",
       "    <tr>\n",
       "      <th>58</th>\n",
       "      <td>45</td>\n",
       "      <td>MRACE6classVec_1</td>\n",
       "      <td>0.030582</td>\n",
       "    </tr>\n",
       "    <tr>\n",
       "      <th>1</th>\n",
       "      <td>75</td>\n",
       "      <td>CIG_0</td>\n",
       "      <td>0.029791</td>\n",
       "    </tr>\n",
       "  </tbody>\n",
       "</table>\n",
       "</div>"
      ],
      "text/plain": [
       "    idx                name     score\n",
       "7    81              PREVIS  0.202034\n",
       "2    76                DBWT  0.117152\n",
       "73   60  RESTATUSclassVec_2  0.081735\n",
       "72   59  RESTATUSclassVec_1  0.077273\n",
       "4    78               MAGER  0.075905\n",
       "86   73       SEXclassVec_M  0.051471\n",
       "6    80             PRECARE  0.043032\n",
       "9    83           PRIORLIVE  0.035358\n",
       "58   45    MRACE6classVec_1  0.030582\n",
       "1    75               CIG_0  0.029791"
      ]
     },
     "execution_count": 32,
     "metadata": {},
     "output_type": "execute_result"
    }
   ],
   "source": [
    "ExtractFeatureImp(gbtModel.featureImportances, predictions_gbt, \"features\").head(10)"
   ]
  },
  {
   "cell_type": "code",
   "execution_count": 33,
   "metadata": {},
   "outputs": [
    {
     "name": "stdout",
     "output_type": "stream",
     "text": [
      "Test Accuracy = 0.846071\n",
      "Test weightedPrecision = 0.991358\n",
      "Test weightedRecall = 0.846071\n",
      "Test F1 = 0.911488\n"
     ]
    }
   ],
   "source": [
    "evaluator1 = MulticlassClassificationEvaluator(labelCol=\"label\", predictionCol=\"prediction\", metricName=\"accuracy\")\n",
    "evaluator2 = MulticlassClassificationEvaluator(labelCol=\"label\", predictionCol=\"prediction\", metricName=\"weightedPrecision\")\n",
    "evaluator3 = MulticlassClassificationEvaluator(labelCol=\"label\", predictionCol=\"prediction\", metricName=\"weightedRecall\")\n",
    "evaluator4 = MulticlassClassificationEvaluator(labelCol=\"label\", predictionCol=\"prediction\", metricName=\"f1\")\n",
    "accuracy = evaluator1.evaluate(predictions_gbt)\n",
    "precision = evaluator2.evaluate(predictions_gbt)\n",
    "recall = evaluator3.evaluate(predictions_gbt)\n",
    "f1 = evaluator4.evaluate(predictions_gbt)\n",
    "print(\"Test Accuracy = %g\" % (accuracy))\n",
    "print(\"Test weightedPrecision = %g\" % (precision))\n",
    "print(\"Test weightedRecall = %g\" % (recall))\n",
    "print(\"Test F1 = %g\" % (f1))"
   ]
  },
  {
   "cell_type": "code",
   "execution_count": 34,
   "metadata": {},
   "outputs": [
    {
     "name": "stdout",
     "output_type": "stream",
     "text": [
      "Test Area Under ROC: 0.7340801989711138\n"
     ]
    }
   ],
   "source": [
    "#ROC GBT\n",
    "evaluator = BinaryClassificationEvaluator()\n",
    "print(\"Test Area Under ROC: \" + str(evaluator.evaluate(predictions_gbt, {evaluator.metricName: \"areaUnderROC\"})))"
   ]
  },
  {
   "cell_type": "code",
   "execution_count": 35,
   "metadata": {},
   "outputs": [],
   "source": [
    "del gbtModel\n",
    "del predictions_gbt"
   ]
  },
  {
   "cell_type": "code",
   "execution_count": null,
   "metadata": {},
   "outputs": [],
   "source": [
    "#from pyspark.ml.tuning import ParamGridBuilder, CrossValidator\n",
    "#paramGrid = (ParamGridBuilder()\n",
    "#             .addGrid(gbt.maxDepth, [2, 4, 6])\n",
    "#             .addGrid(gbt.maxBins, [20, 60])\n",
    "#             .addGrid(gbt.maxIter, [10, 20])\n",
    "#             .build())\n",
    "#cv = CrossValidator(estimator=gbt, estimatorParamMaps=paramGrid, evaluator=evaluator, numFolds=5)\n",
    "# Run cross validations.  This can take about 6 minutes since it is training over 20 trees!\n",
    "#cvModel = cv.fit(train)\n",
    "#predictions_cv = cvModel.transform(test)\n",
    "#evaluator.evaluate(predictions_cv)"
   ]
  },
  {
   "cell_type": "code",
   "execution_count": null,
   "metadata": {},
   "outputs": [],
   "source": [
    "#evaluator1 = MulticlassClassificationEvaluator(labelCol=\"label\", predictionCol=\"prediction\", metricName=\"accuracy\")\n",
    "#evaluator2 = MulticlassClassificationEvaluator(labelCol=\"label\", predictionCol=\"prediction\", metricName=\"weightedPrecision\")\n",
    "#evaluator3 = MulticlassClassificationEvaluator(labelCol=\"label\", predictionCol=\"prediction\", metricName=\"weightedRecall\")\n",
    "#evaluator4 = MulticlassClassificationEvaluator(labelCol=\"label\", predictionCol=\"prediction\", metricName=\"f1\")\n",
    "#accuracy = evaluator1.evaluate(predictions_cv)\n",
    "#precision = evaluator2.evaluate(predictions_cv)\n",
    "#recall = evaluator3.evaluate(predictions_cv)\n",
    "#f1 = evaluator4.evaluate(predictions_cv)\n",
    "#print(\"Test Accuracy = %g\" % (accuracy))\n",
    "#print(\"Test weightedPrecision = %g\" % (precision))\n",
    "#print(\"Test weightedRecall = %g\" % (recall))\n",
    "#print(\"Test F1 = %g\" % (f1))"
   ]
  }
 ],
 "metadata": {
  "kernelspec": {
   "display_name": "Python 3",
   "language": "python",
   "name": "python3"
  },
  "language_info": {
   "codemirror_mode": {
    "name": "ipython",
    "version": 3
   },
   "file_extension": ".py",
   "mimetype": "text/x-python",
   "name": "python",
   "nbconvert_exporter": "python",
   "pygments_lexer": "ipython3",
   "version": "3.7.3"
  }
 },
 "nbformat": 4,
 "nbformat_minor": 4
}

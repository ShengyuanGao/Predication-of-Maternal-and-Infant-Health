{
 "cells": [
  {
   "cell_type": "code",
   "execution_count": 1,
   "metadata": {},
   "outputs": [],
   "source": [
    "from google.cloud import storage\n",
    "import os\n",
    "from io import BytesIO\n",
    "import pandas as pd\n",
    "import numpy as np\n",
    "\n",
    "#Connect to GCP bucket and assign the bucket_name and specify the file name\n",
    "bucket_name = \"ychou-bucket1\" #Assign the bucket name where your file is stored\n",
    "storage_client = storage.Client()\n",
    "\n",
    "bucket = storage_client.get_bucket(bucket_name)"
   ]
  },
  {
   "cell_type": "code",
   "execution_count": 2,
   "metadata": {},
   "outputs": [],
   "source": [
    "blob = storage.blob.Blob(\"US_births2018_processed3.csv\",bucket)"
   ]
  },
  {
   "cell_type": "code",
   "execution_count": 3,
   "metadata": {},
   "outputs": [],
   "source": [
    "# Convert to a pandas dataframe\n",
    "content = blob.download_as_string()\n",
    "df_processed = pd.read_csv(BytesIO(content))"
   ]
  },
  {
   "cell_type": "code",
   "execution_count": 4,
   "metadata": {},
   "outputs": [],
   "source": [
    "del content"
   ]
  },
  {
   "cell_type": "code",
   "execution_count": 5,
   "metadata": {},
   "outputs": [],
   "source": [
    "#df_processed = df_processed.drop(columns = ['Unnamed: 0', 'MAGE_IMPFLG'])\n"
   ]
  },
  {
   "cell_type": "code",
   "execution_count": 6,
   "metadata": {},
   "outputs": [],
   "source": [
    "#df_processed = df_processed.rename(columns={\"MRAVE6\": \"MRACE6\"})"
   ]
  },
  {
   "cell_type": "code",
   "execution_count": 7,
   "metadata": {},
   "outputs": [],
   "source": [
    "#df_processed = df_processed.drop(columns = ['DLMP_MM','DOB_MM', 'DOB_TT','DOB_WK', 'ILLB_R','ILOP_R','ILP_R',\n",
    "#                                           'DWgt_R', 'PWgt_R'])"
   ]
  },
  {
   "cell_type": "code",
   "execution_count": 8,
   "metadata": {},
   "outputs": [],
   "source": [
    "#df_processed['DMAR'].value_counts()"
   ]
  },
  {
   "cell_type": "code",
   "execution_count": 9,
   "metadata": {},
   "outputs": [],
   "source": [
    "#list1 = [1, 2]\n",
    "#df_processed = df_processed[df_processed.DMAR.isin(list1)]"
   ]
  },
  {
   "cell_type": "code",
   "execution_count": 10,
   "metadata": {},
   "outputs": [],
   "source": [
    "#df_processed = df_processed.drop(columns = ['MTRAN','IP_GON'])"
   ]
  },
  {
   "cell_type": "code",
   "execution_count": 11,
   "metadata": {},
   "outputs": [],
   "source": [
    "#df_processed.columns"
   ]
  },
  {
   "cell_type": "code",
   "execution_count": 12,
   "metadata": {},
   "outputs": [],
   "source": [
    "#df_processed.to_csv('US_births2018_processed3.csv')"
   ]
  },
  {
   "cell_type": "code",
   "execution_count": 13,
   "metadata": {},
   "outputs": [],
   "source": [
    "# import package\n",
    "from pyspark.sql.types import *\n",
    "from pyspark import SparkContext\n",
    "from pyspark.sql import SQLContext\n",
    "from pyspark.ml.evaluation import RegressionEvaluator\n",
    "from pyspark.sql import Row\n",
    "from pyspark.sql import SparkSession"
   ]
  },
  {
   "cell_type": "code",
   "execution_count": 14,
   "metadata": {},
   "outputs": [],
   "source": [
    "spark = SparkSession.builder.appName('ml-bank').getOrCreate()"
   ]
  },
  {
   "cell_type": "code",
   "execution_count": 15,
   "metadata": {},
   "outputs": [],
   "source": [
    "#from pyspark.sql.types import *\n",
    "\n",
    "#mySchema = StructType([ StructField(\"ATTEND\", LongType(), True)\\\n",
    "#                       ,StructField(\"BFACIL\", IntegerType(), True)\\\n",
    "#                       ,StructField(\"BMI\", DoubleType(), True)\\\n",
    "#                       ,StructField(\"CIG_0\", LongType(), True)\\\n",
    "#                       ,StructField(\"DBWT\", LongType(), True)\\\n",
    "#                       ,StructField(\"DLMP_MM\", LongType(), True)\\\n",
    "#                       ,StructField(\"DMAR\", LongType(), True)\\\n",
    "#                      ,StructField(\"FAGECOMB\", LongType(), True)\\\n",
    "#                       ,StructField(\"FEDUC\", LongType(), True)\\\n",
    "#                       ,StructField(\"FHISPX\", LongType(), True)\\\n",
    "#                       ,StructField(\"FRACE6\", LongType(), True)\\\n",
    "#                       ,StructField(\"IP_GON\", StringType(), True)\\\n",
    "#                       ,StructField(\"MAGER\", LongType(), True)\\\n",
    "#                       ,StructField(\"MBSTATE_REC\", LongType(), True)\\\n",
    "#                       ,StructField(\"MEDUC\", LongType(), True)\\\n",
    "#                       ,StructField(\"MHISPX\", LongType(), True)\\\n",
    "#                       ,StructField(\"MM_AICU\", StringType(), True)\\\n",
    "#                       ,StructField(\"MRACE6\", IntegerType(), True)])"
   ]
  },
  {
   "cell_type": "code",
   "execution_count": 16,
   "metadata": {},
   "outputs": [],
   "source": [
    "#create spark dataframe\n",
    "df = spark.createDataFrame(df_processed[:1200000])"
   ]
  },
  {
   "cell_type": "code",
   "execution_count": 17,
   "metadata": {},
   "outputs": [],
   "source": [
    "del df_processed"
   ]
  },
  {
   "cell_type": "code",
   "execution_count": 18,
   "metadata": {},
   "outputs": [
    {
     "name": "stdout",
     "output_type": "stream",
     "text": [
      "root\n",
      " |-- Unnamed: 0: long (nullable = true)\n",
      " |-- ATTEND: long (nullable = true)\n",
      " |-- BFACIL: long (nullable = true)\n",
      " |-- BMI: double (nullable = true)\n",
      " |-- CIG_0: long (nullable = true)\n",
      " |-- DBWT: long (nullable = true)\n",
      " |-- DMAR: long (nullable = true)\n",
      " |-- FAGECOMB: long (nullable = true)\n",
      " |-- FEDUC: long (nullable = true)\n",
      " |-- FHISPX: long (nullable = true)\n",
      " |-- FRACE6: long (nullable = true)\n",
      " |-- MAGER: long (nullable = true)\n",
      " |-- MBSTATE_REC: long (nullable = true)\n",
      " |-- MEDUC: long (nullable = true)\n",
      " |-- MHISPX: long (nullable = true)\n",
      " |-- MM_AICU: string (nullable = true)\n",
      " |-- MRACE6: long (nullable = true)\n",
      " |-- M_Ht_In: long (nullable = true)\n",
      " |-- NO_INFEC: long (nullable = true)\n",
      " |-- NO_MMORB: long (nullable = true)\n",
      " |-- NO_RISKS: long (nullable = true)\n",
      " |-- PAY_REC: long (nullable = true)\n",
      " |-- PRECARE: long (nullable = true)\n",
      " |-- PREVIS: long (nullable = true)\n",
      " |-- PRIORDEAD: long (nullable = true)\n",
      " |-- PRIORLIVE: long (nullable = true)\n",
      " |-- PRIORTERM: long (nullable = true)\n",
      " |-- RDMETH_REC: long (nullable = true)\n",
      " |-- RESTATUS: long (nullable = true)\n",
      " |-- RF_CESARN: long (nullable = true)\n",
      " |-- SEX: string (nullable = true)\n",
      " |-- WTGAIN: long (nullable = true)\n",
      " |-- ANOMALY: long (nullable = true)\n",
      " |-- APGAR: long (nullable = true)\n",
      "\n"
     ]
    }
   ],
   "source": [
    "df.printSchema()"
   ]
  },
  {
   "cell_type": "code",
   "execution_count": 19,
   "metadata": {},
   "outputs": [],
   "source": [
    "#timeseries and unuseful features\n",
    "#'DLMP_MM''DLMP_YY''DOB_MM' 'DOB_TT''DOB_WK' 'ILLB_R''ILOP_R''ILP_R'\n",
    "#multicollinearity\n",
    "#BMI:DWGT_R PWGT_R "
   ]
  },
  {
   "cell_type": "code",
   "execution_count": 20,
   "metadata": {},
   "outputs": [],
   "source": [
    "#Preparing Data for Machine Learning\n",
    "#merges multiple columns into a vectorcolumn.\n",
    "from pyspark.ml.feature import OneHotEncoderEstimator, StringIndexer, VectorAssembler\n",
    "categoricalColumns = ['ATTEND', 'BFACIL', 'DMAR', 'FEDUC', 'FHISPX', 'FRACE6','MBSTATE_REC','MEDUC',\n",
    "                      'MHISPX', 'MM_AICU', 'MRACE6', 'NO_INFEC', 'NO_MMORB', 'NO_RISKS', 'PAY_REC',\n",
    "                      'RDMETH_REC', 'RESTATUS', 'RF_CESARN', 'SEX']\n",
    "stages = []\n",
    "for categoricalCol in categoricalColumns:\n",
    "    stringIndexer = StringIndexer(inputCol = categoricalCol, outputCol = categoricalCol + 'Index')\n",
    "    encoder = OneHotEncoderEstimator(inputCols=[stringIndexer.getOutputCol()], outputCols=[categoricalCol + \"classVec\"])\n",
    "    stages += [stringIndexer, encoder]\n",
    "label_stringIdx = StringIndexer(inputCol = 'ANOMALY', outputCol = 'label')\n",
    "stages += [label_stringIdx]\n",
    "numericCols = ['BMI', 'CIG_0', 'DBWT', 'FAGECOMB', 'MAGER', 'M_Ht_In', 'PRECARE', 'PREVIS', 'PRIORDEAD',\n",
    "              'PRIORLIVE', 'PRIORTERM', 'RF_CESARN', 'WTGAIN']\n",
    "assemblerInputs = [c + \"classVec\" for c in categoricalColumns] + numericCols\n",
    "assembler = VectorAssembler(inputCols=assemblerInputs, outputCol=\"features\")\n",
    "stages += [assembler]"
   ]
  },
  {
   "cell_type": "code",
   "execution_count": 21,
   "metadata": {},
   "outputs": [
    {
     "name": "stdout",
     "output_type": "stream",
     "text": [
      "root\n",
      " |-- label: double (nullable = false)\n",
      " |-- features: vector (nullable = true)\n",
      "\n"
     ]
    }
   ],
   "source": [
    "#chain multiple Transformers and Estimators together to specify our machine learning workflow\n",
    "from pyspark.ml import Pipeline\n",
    "pipeline = Pipeline(stages = stages)\n",
    "pipelineModel = pipeline.fit(df)\n",
    "df = pipelineModel.transform(df)\n",
    "selectedCols = ['label', 'features']\n",
    "df = df.select(selectedCols)\n",
    "df.printSchema()"
   ]
  },
  {
   "cell_type": "code",
   "execution_count": 22,
   "metadata": {},
   "outputs": [
    {
     "data": {
      "text/html": [
       "<div>\n",
       "<style scoped>\n",
       "    .dataframe tbody tr th:only-of-type {\n",
       "        vertical-align: middle;\n",
       "    }\n",
       "\n",
       "    .dataframe tbody tr th {\n",
       "        vertical-align: top;\n",
       "    }\n",
       "\n",
       "    .dataframe thead th {\n",
       "        text-align: right;\n",
       "    }\n",
       "</style>\n",
       "<table border=\"1\" class=\"dataframe\">\n",
       "  <thead>\n",
       "    <tr style=\"text-align: right;\">\n",
       "      <th></th>\n",
       "      <th>0</th>\n",
       "      <th>1</th>\n",
       "      <th>2</th>\n",
       "      <th>3</th>\n",
       "      <th>4</th>\n",
       "    </tr>\n",
       "  </thead>\n",
       "  <tbody>\n",
       "    <tr>\n",
       "      <th>label</th>\n",
       "      <td>0</td>\n",
       "      <td>0</td>\n",
       "      <td>0</td>\n",
       "      <td>0</td>\n",
       "      <td>0</td>\n",
       "    </tr>\n",
       "    <tr>\n",
       "      <th>features</th>\n",
       "      <td>(1.0, 0.0, 0.0, 0.0, 1.0, 0.0, 0.0, 0.0, 0.0, ...</td>\n",
       "      <td>(0.0, 1.0, 0.0, 0.0, 1.0, 0.0, 0.0, 0.0, 0.0, ...</td>\n",
       "      <td>(0.0, 0.0, 0.0, 1.0, 0.0, 0.0, 1.0, 0.0, 0.0, ...</td>\n",
       "      <td>(1.0, 0.0, 0.0, 0.0, 1.0, 0.0, 0.0, 0.0, 0.0, ...</td>\n",
       "      <td>(1.0, 0.0, 0.0, 0.0, 1.0, 0.0, 0.0, 0.0, 0.0, ...</td>\n",
       "    </tr>\n",
       "  </tbody>\n",
       "</table>\n",
       "</div>"
      ],
      "text/plain": [
       "                                                          0  \\\n",
       "label                                                     0   \n",
       "features  (1.0, 0.0, 0.0, 0.0, 1.0, 0.0, 0.0, 0.0, 0.0, ...   \n",
       "\n",
       "                                                          1  \\\n",
       "label                                                     0   \n",
       "features  (0.0, 1.0, 0.0, 0.0, 1.0, 0.0, 0.0, 0.0, 0.0, ...   \n",
       "\n",
       "                                                          2  \\\n",
       "label                                                     0   \n",
       "features  (0.0, 0.0, 0.0, 1.0, 0.0, 0.0, 1.0, 0.0, 0.0, ...   \n",
       "\n",
       "                                                          3  \\\n",
       "label                                                     0   \n",
       "features  (1.0, 0.0, 0.0, 0.0, 1.0, 0.0, 0.0, 0.0, 0.0, ...   \n",
       "\n",
       "                                                          4  \n",
       "label                                                     0  \n",
       "features  (1.0, 0.0, 0.0, 0.0, 1.0, 0.0, 0.0, 0.0, 0.0, ...  "
      ]
     },
     "execution_count": 22,
     "metadata": {},
     "output_type": "execute_result"
    }
   ],
   "source": [
    "#checked processed data\n",
    "pd.DataFrame(df.take(5), columns=df.columns).transpose()"
   ]
  },
  {
   "cell_type": "code",
   "execution_count": 23,
   "metadata": {},
   "outputs": [],
   "source": [
    "#split train and test\n",
    "train, test = df.randomSplit([0.7, 0.3], seed = 2020)"
   ]
  },
  {
   "cell_type": "code",
   "execution_count": 24,
   "metadata": {},
   "outputs": [],
   "source": [
    "del df"
   ]
  },
  {
   "cell_type": "code",
   "execution_count": 25,
   "metadata": {},
   "outputs": [],
   "source": [
    "#LogisticRegression\n",
    "from pyspark.ml.classification import LogisticRegression\n",
    "lr = LogisticRegression(featuresCol = 'features', labelCol = 'label', maxIter=5)\n",
    "lrModel = lr.fit(train)"
   ]
  },
  {
   "cell_type": "code",
   "execution_count": 26,
   "metadata": {},
   "outputs": [
    {
     "data": {
      "image/png": "[encoded data removed]",
      "text/plain": [
       "<Figure size 432x288 with 1 Axes>"
      ]
     },
     "metadata": {
      "needs_background": "light"
     },
     "output_type": "display_data"
    }
   ],
   "source": [
    "import matplotlib.pyplot as plt\n",
    "beta = np.sort(lrModel.coefficients)\n",
    "plt.plot(beta)\n",
    "plt.ylabel('Beta Coefficients')\n",
    "plt.show()"
   ]
  },
  {
   "cell_type": "code",
   "execution_count": 27,
   "metadata": {},
   "outputs": [
    {
     "data": {
      "image/png": "[encoded data removed]",
      "text/plain": [
       "<Figure size 432x288 with 1 Axes>"
      ]
     },
     "metadata": {
      "needs_background": "light"
     },
     "output_type": "display_data"
    },
    {
     "name": "stdout",
     "output_type": "stream",
     "text": [
      "Training set areaUnderROC: 0.6723613815296275\n"
     ]
    }
   ],
   "source": [
    "#ROC LogisticRegression\n",
    "trainingSummary_lr = lrModel.summary\n",
    "roc = trainingSummary_lr.roc.toPandas()\n",
    "plt.plot(roc['FPR'],roc['TPR'])\n",
    "plt.ylabel('False Positive Rate')\n",
    "plt.xlabel('True Positive Rate')\n",
    "plt.title('ROC Curve')\n",
    "plt.show()\n",
    "print('Training set areaUnderROC: ' + str(trainingSummary_lr.areaUnderROC))"
   ]
  },
  {
   "cell_type": "code",
   "execution_count": 28,
   "metadata": {},
   "outputs": [
    {
     "data": {
      "image/png": "[encoded data removed]",
      "text/plain": [
       "<Figure size 432x288 with 1 Axes>"
      ]
     },
     "metadata": {
      "needs_background": "light"
     },
     "output_type": "display_data"
    }
   ],
   "source": [
    "#recall precision LogisticRegression\n",
    "pr = trainingSummary_lr.pr.toPandas()\n",
    "plt.plot(pr['recall'],pr['precision'])\n",
    "plt.ylabel('Precision')\n",
    "plt.xlabel('Recall')\n",
    "plt.show()"
   ]
  },
  {
   "cell_type": "code",
   "execution_count": 29,
   "metadata": {},
   "outputs": [
    {
     "name": "stdout",
     "output_type": "stream",
     "text": [
      "+-----+--------------------+----------+--------------------+\n",
      "|label|       rawPrediction|prediction|         probability|\n",
      "+-----+--------------------+----------+--------------------+\n",
      "|  0.0|[5.91351146701550...|       0.0|[0.99730460495561...|\n",
      "|  0.0|[5.51959932244528...|       0.0|[0.99600854226350...|\n",
      "|  0.0|[5.86339419743987...|       0.0|[0.99716646930686...|\n",
      "|  0.0|[5.49630985479974...|       0.0|[0.99591487660839...|\n",
      "|  0.0|[6.05583124673509...|       0.0|[0.99766132945969...|\n",
      "+-----+--------------------+----------+--------------------+\n",
      "only showing top 5 rows\n",
      "\n"
     ]
    }
   ],
   "source": [
    "#make predictions on test\n",
    "predictions_lr = lrModel.transform(test)\n",
    "predictions_lr.select('label', 'rawPrediction', 'prediction', 'probability').show(5)"
   ]
  },
  {
   "cell_type": "code",
   "execution_count": 30,
   "metadata": {},
   "outputs": [
    {
     "name": "stdout",
     "output_type": "stream",
     "text": [
      "Test Accuracy = 0.994467\n",
      "Test weightedPrecision = 0.988964\n",
      "Test weightedRecall = 0.994467\n",
      "Test F1 = 0.991708\n"
     ]
    }
   ],
   "source": [
    "#caculate accuracy precision recall f1\n",
    "from pyspark.ml.evaluation import MulticlassClassificationEvaluator\n",
    "evaluator1 = MulticlassClassificationEvaluator(labelCol=\"label\", predictionCol=\"prediction\", metricName=\"accuracy\")\n",
    "evaluator2 = MulticlassClassificationEvaluator(labelCol=\"label\", predictionCol=\"prediction\", metricName=\"weightedPrecision\")\n",
    "evaluator3 = MulticlassClassificationEvaluator(labelCol=\"label\", predictionCol=\"prediction\", metricName=\"weightedRecall\")\n",
    "evaluator4 = MulticlassClassificationEvaluator(labelCol=\"label\", predictionCol=\"prediction\", metricName=\"f1\")\n",
    "accuracy = evaluator1.evaluate(predictions_lr)\n",
    "precision = evaluator2.evaluate(predictions_lr)\n",
    "recall = evaluator3.evaluate(predictions_lr)\n",
    "f1 = evaluator4.evaluate(predictions_lr)\n",
    "print(\"Test Accuracy = %g\" % (accuracy))\n",
    "print(\"Test weightedPrecision = %g\" % (precision))\n",
    "print(\"Test weightedRecall = %g\" % (recall))\n",
    "print(\"Test F1 = %g\" % (f1))"
   ]
  },
  {
   "cell_type": "code",
   "execution_count": 31,
   "metadata": {},
   "outputs": [
    {
     "name": "stdout",
     "output_type": "stream",
     "text": [
      "Test Area Under ROC 0.6819707967135722\n"
     ]
    }
   ],
   "source": [
    "#evaluate prediction on test\n",
    "from pyspark.ml.evaluation import BinaryClassificationEvaluator\n",
    "evaluator = BinaryClassificationEvaluator()\n",
    "print('Test Area Under ROC', evaluator.evaluate(predictions_lr))"
   ]
  },
  {
   "cell_type": "code",
   "execution_count": 32,
   "metadata": {},
   "outputs": [],
   "source": [
    "del lrModel\n",
    "del predictions_lr"
   ]
  },
  {
   "cell_type": "code",
   "execution_count": 33,
   "metadata": {},
   "outputs": [
    {
     "name": "stdout",
     "output_type": "stream",
     "text": [
      "+-----+-----------------+----------+--------------------+\n",
      "|label|    rawPrediction|prediction|         probability|\n",
      "+-----+-----------------+----------+--------------------+\n",
      "|  0.0|[835396.0,4606.0]|       0.0|[0.99451667972219...|\n",
      "|  0.0|[835396.0,4606.0]|       0.0|[0.99451667972219...|\n",
      "|  0.0|[835396.0,4606.0]|       0.0|[0.99451667972219...|\n",
      "|  0.0|[835396.0,4606.0]|       0.0|[0.99451667972219...|\n",
      "|  0.0|[835396.0,4606.0]|       0.0|[0.99451667972219...|\n",
      "+-----+-----------------+----------+--------------------+\n",
      "only showing top 5 rows\n",
      "\n"
     ]
    }
   ],
   "source": [
    "#decision tree\n",
    "from pyspark.ml.classification import DecisionTreeClassifier\n",
    "dt = DecisionTreeClassifier(featuresCol = 'features', labelCol = 'label', maxDepth = 3)\n",
    "dtModel = dt.fit(train)\n",
    "predictions_dt = dtModel.transform(test)\n",
    "predictions_dt.select('label', 'rawPrediction', 'prediction', 'probability').show(5)"
   ]
  },
  {
   "cell_type": "code",
   "execution_count": 34,
   "metadata": {},
   "outputs": [
    {
     "name": "stdout",
     "output_type": "stream",
     "text": [
      "Test Accuracy = 0.994467\n",
      "Test weightedPrecision = 0.988964\n",
      "Test weightedRecall = 0.994467\n",
      "Test F1 = 0.991708\n"
     ]
    }
   ],
   "source": [
    "from pyspark.ml.evaluation import MulticlassClassificationEvaluator\n",
    "evaluator1 = MulticlassClassificationEvaluator(labelCol=\"label\", predictionCol=\"prediction\", metricName=\"accuracy\")\n",
    "evaluator2 = MulticlassClassificationEvaluator(labelCol=\"label\", predictionCol=\"prediction\", metricName=\"weightedPrecision\")\n",
    "evaluator3 = MulticlassClassificationEvaluator(labelCol=\"label\", predictionCol=\"prediction\", metricName=\"weightedRecall\")\n",
    "evaluator4 = MulticlassClassificationEvaluator(labelCol=\"label\", predictionCol=\"prediction\", metricName=\"f1\")\n",
    "accuracy = evaluator1.evaluate(predictions_dt)\n",
    "precision = evaluator2.evaluate(predictions_dt)\n",
    "recall = evaluator3.evaluate(predictions_dt)\n",
    "f1 = evaluator4.evaluate(predictions_dt)\n",
    "print(\"Test Accuracy = %g\" % (accuracy))\n",
    "print(\"Test weightedPrecision = %g\" % (precision))\n",
    "print(\"Test weightedRecall = %g\" % (recall))\n",
    "print(\"Test F1 = %g\" % (f1))"
   ]
  },
  {
   "cell_type": "code",
   "execution_count": 35,
   "metadata": {},
   "outputs": [
    {
     "name": "stdout",
     "output_type": "stream",
     "text": [
      "Test Area Under ROC: 0.5\n"
     ]
    }
   ],
   "source": [
    "#ROC decision tree\n",
    "evaluator = BinaryClassificationEvaluator()\n",
    "print(\"Test Area Under ROC: \" + str(evaluator.evaluate(predictions_dt, {evaluator.metricName: \"areaUnderROC\"})))"
   ]
  },
  {
   "cell_type": "code",
   "execution_count": 36,
   "metadata": {},
   "outputs": [],
   "source": [
    "del dtModel\n",
    "del predictions_dt"
   ]
  },
  {
   "cell_type": "code",
   "execution_count": 37,
   "metadata": {},
   "outputs": [
    {
     "name": "stdout",
     "output_type": "stream",
     "text": [
      "+-----+--------------------+----------+--------------------+\n",
      "|label|       rawPrediction|prediction|         probability|\n",
      "+-----+--------------------+----------+--------------------+\n",
      "|  0.0|[19.9041238575498...|       0.0|[0.99520619287749...|\n",
      "|  0.0|[19.9041238575498...|       0.0|[0.99520619287749...|\n",
      "|  0.0|[19.9004243675603...|       0.0|[0.99502121837801...|\n",
      "|  0.0|[19.8958469891779...|       0.0|[0.99479234945889...|\n",
      "|  0.0|[19.9041238575498...|       0.0|[0.99520619287749...|\n",
      "+-----+--------------------+----------+--------------------+\n",
      "only showing top 5 rows\n",
      "\n"
     ]
    }
   ],
   "source": [
    "#RandomForest\n",
    "from pyspark.ml.classification import RandomForestClassifier\n",
    "rf = RandomForestClassifier(featuresCol = 'features', labelCol = 'label')\n",
    "rfModel = rf.fit(train)\n",
    "predictions_rf = rfModel.transform(test)\n",
    "predictions_rf.select('label', 'rawPrediction', 'prediction', 'probability').show(5)"
   ]
  },
  {
   "cell_type": "code",
   "execution_count": 38,
   "metadata": {},
   "outputs": [],
   "source": [
    "#check feature importance\n",
    "#write a function to better interpret output\n",
    "def ExtractFeatureImp(featureImp, dataset, featuresCol):\n",
    "    list_extract = []\n",
    "    for i in dataset.schema[featuresCol].metadata[\"ml_attr\"][\"attrs\"]:\n",
    "        list_extract = list_extract + dataset.schema[featuresCol].metadata[\"ml_attr\"][\"attrs\"][i]\n",
    "    varlist = pd.DataFrame(list_extract)\n",
    "    varlist['score'] = varlist['idx'].apply(lambda x: featureImp[x])\n",
    "    return(varlist.sort_values('score', ascending = False))"
   ]
  },
  {
   "cell_type": "code",
   "execution_count": 39,
   "metadata": {},
   "outputs": [
    {
     "data": {
      "text/html": [
       "<div>\n",
       "<style scoped>\n",
       "    .dataframe tbody tr th:only-of-type {\n",
       "        vertical-align: middle;\n",
       "    }\n",
       "\n",
       "    .dataframe tbody tr th {\n",
       "        vertical-align: top;\n",
       "    }\n",
       "\n",
       "    .dataframe thead th {\n",
       "        text-align: right;\n",
       "    }\n",
       "</style>\n",
       "<table border=\"1\" class=\"dataframe\">\n",
       "  <thead>\n",
       "    <tr style=\"text-align: right;\">\n",
       "      <th></th>\n",
       "      <th>idx</th>\n",
       "      <th>name</th>\n",
       "      <th>score</th>\n",
       "    </tr>\n",
       "  </thead>\n",
       "  <tbody>\n",
       "    <tr>\n",
       "      <th>2</th>\n",
       "      <td>76</td>\n",
       "      <td>DBWT</td>\n",
       "      <td>0.119931</td>\n",
       "    </tr>\n",
       "    <tr>\n",
       "      <th>7</th>\n",
       "      <td>81</td>\n",
       "      <td>PREVIS</td>\n",
       "      <td>0.090513</td>\n",
       "    </tr>\n",
       "    <tr>\n",
       "      <th>72</th>\n",
       "      <td>59</td>\n",
       "      <td>RESTATUSclassVec_1</td>\n",
       "      <td>0.081174</td>\n",
       "    </tr>\n",
       "    <tr>\n",
       "      <th>43</th>\n",
       "      <td>30</td>\n",
       "      <td>MBSTATE_RECclassVec_2</td>\n",
       "      <td>0.079691</td>\n",
       "    </tr>\n",
       "    <tr>\n",
       "      <th>52</th>\n",
       "      <td>39</td>\n",
       "      <td>MHISPXclassVec_1</td>\n",
       "      <td>0.064351</td>\n",
       "    </tr>\n",
       "    <tr>\n",
       "      <th>32</th>\n",
       "      <td>19</td>\n",
       "      <td>FHISPXclassVec_1</td>\n",
       "      <td>0.061228</td>\n",
       "    </tr>\n",
       "    <tr>\n",
       "      <th>73</th>\n",
       "      <td>60</td>\n",
       "      <td>RESTATUSclassVec_2</td>\n",
       "      <td>0.058424</td>\n",
       "    </tr>\n",
       "    <tr>\n",
       "      <th>4</th>\n",
       "      <td>78</td>\n",
       "      <td>MAGER</td>\n",
       "      <td>0.051292</td>\n",
       "    </tr>\n",
       "    <tr>\n",
       "      <th>6</th>\n",
       "      <td>80</td>\n",
       "      <td>PRECARE</td>\n",
       "      <td>0.049141</td>\n",
       "    </tr>\n",
       "    <tr>\n",
       "      <th>5</th>\n",
       "      <td>79</td>\n",
       "      <td>M_Ht_In</td>\n",
       "      <td>0.042901</td>\n",
       "    </tr>\n",
       "  </tbody>\n",
       "</table>\n",
       "</div>"
      ],
      "text/plain": [
       "    idx                   name     score\n",
       "2    76                   DBWT  0.119931\n",
       "7    81                 PREVIS  0.090513\n",
       "72   59     RESTATUSclassVec_1  0.081174\n",
       "43   30  MBSTATE_RECclassVec_2  0.079691\n",
       "52   39       MHISPXclassVec_1  0.064351\n",
       "32   19       FHISPXclassVec_1  0.061228\n",
       "73   60     RESTATUSclassVec_2  0.058424\n",
       "4    78                  MAGER  0.051292\n",
       "6    80                PRECARE  0.049141\n",
       "5    79                M_Ht_In  0.042901"
      ]
     },
     "execution_count": 39,
     "metadata": {},
     "output_type": "execute_result"
    }
   ],
   "source": [
    "ExtractFeatureImp(rfModel.featureImportances, predictions_rf, \"features\").head(10)"
   ]
  },
  {
   "cell_type": "code",
   "execution_count": 40,
   "metadata": {},
   "outputs": [
    {
     "name": "stdout",
     "output_type": "stream",
     "text": [
      "Test Area Under ROC: 0.6909498199049732\n"
     ]
    }
   ],
   "source": [
    "#ROC RandomForest\n",
    "evaluator = BinaryClassificationEvaluator()\n",
    "print(\"Test Area Under ROC: \" + str(evaluator.evaluate(predictions_rf, {evaluator.metricName: \"areaUnderROC\"})))"
   ]
  },
  {
   "cell_type": "code",
   "execution_count": 41,
   "metadata": {},
   "outputs": [
    {
     "name": "stdout",
     "output_type": "stream",
     "text": [
      "Test Accuracy = 0.994467\n",
      "Test weightedPrecision = 0.988964\n",
      "Test weightedRecall = 0.994467\n",
      "Test F1 = 0.991708\n"
     ]
    }
   ],
   "source": [
    "# Select (prediction, true label) and compute test error\n",
    "from pyspark.ml.evaluation import MulticlassClassificationEvaluator\n",
    "evaluator1 = MulticlassClassificationEvaluator(labelCol=\"label\", predictionCol=\"prediction\", metricName=\"accuracy\")\n",
    "evaluator2 = MulticlassClassificationEvaluator(labelCol=\"label\", predictionCol=\"prediction\", metricName=\"weightedPrecision\")\n",
    "evaluator3 = MulticlassClassificationEvaluator(labelCol=\"label\", predictionCol=\"prediction\", metricName=\"weightedRecall\")\n",
    "evaluator4 = MulticlassClassificationEvaluator(labelCol=\"label\", predictionCol=\"prediction\", metricName=\"f1\")\n",
    "accuracy = evaluator1.evaluate(predictions_rf)\n",
    "precision = evaluator2.evaluate(predictions_rf)\n",
    "recall = evaluator3.evaluate(predictions_rf)\n",
    "f1 = evaluator4.evaluate(predictions_rf)\n",
    "print(\"Test Accuracy = %g\" % (accuracy))\n",
    "print(\"Test weightedPrecision = %g\" % (precision))\n",
    "print(\"Test weightedRecall = %g\" % (recall))\n",
    "print(\"Test F1 = %g\" % (f1))"
   ]
  },
  {
   "cell_type": "code",
   "execution_count": 42,
   "metadata": {},
   "outputs": [],
   "source": [
    "del rfModel\n",
    "del predictions_rf"
   ]
  },
  {
   "cell_type": "code",
   "execution_count": 43,
   "metadata": {},
   "outputs": [
    {
     "name": "stdout",
     "output_type": "stream",
     "text": [
      "+-----+--------------------+----------+--------------------+\n",
      "|label|       rawPrediction|prediction|         probability|\n",
      "+-----+--------------------+----------+--------------------+\n",
      "|  0.0|[1.31313358243505...|       0.0|[0.93253307642197...|\n",
      "|  0.0|[1.31286870697603...|       0.0|[0.93249973943208...|\n",
      "|  0.0|[1.31313358243505...|       0.0|[0.93253307642197...|\n",
      "|  0.0|[1.30309451273945...|       0.0|[0.93125883421770...|\n",
      "|  0.0|[1.31313358243505...|       0.0|[0.93253307642197...|\n",
      "+-----+--------------------+----------+--------------------+\n",
      "only showing top 5 rows\n",
      "\n"
     ]
    }
   ],
   "source": [
    "#GBT\n",
    "from pyspark.ml.classification import GBTClassifier\n",
    "gbt = GBTClassifier(maxIter=10)\n",
    "gbtModel = gbt.fit(train)\n",
    "predictions_gbt = gbtModel.transform(test)\n",
    "predictions_gbt.select('label', 'rawPrediction', 'prediction', 'probability').show(5)"
   ]
  },
  {
   "cell_type": "code",
   "execution_count": 44,
   "metadata": {},
   "outputs": [
    {
     "data": {
      "text/html": [
       "<div>\n",
       "<style scoped>\n",
       "    .dataframe tbody tr th:only-of-type {\n",
       "        vertical-align: middle;\n",
       "    }\n",
       "\n",
       "    .dataframe tbody tr th {\n",
       "        vertical-align: top;\n",
       "    }\n",
       "\n",
       "    .dataframe thead th {\n",
       "        text-align: right;\n",
       "    }\n",
       "</style>\n",
       "<table border=\"1\" class=\"dataframe\">\n",
       "  <thead>\n",
       "    <tr style=\"text-align: right;\">\n",
       "      <th></th>\n",
       "      <th>idx</th>\n",
       "      <th>name</th>\n",
       "      <th>score</th>\n",
       "    </tr>\n",
       "  </thead>\n",
       "  <tbody>\n",
       "    <tr>\n",
       "      <th>74</th>\n",
       "      <td>61</td>\n",
       "      <td>RESTATUSclassVec_3</td>\n",
       "      <td>0.518754</td>\n",
       "    </tr>\n",
       "    <tr>\n",
       "      <th>73</th>\n",
       "      <td>60</td>\n",
       "      <td>RESTATUSclassVec_2</td>\n",
       "      <td>0.157496</td>\n",
       "    </tr>\n",
       "    <tr>\n",
       "      <th>72</th>\n",
       "      <td>59</td>\n",
       "      <td>RESTATUSclassVec_1</td>\n",
       "      <td>0.084976</td>\n",
       "    </tr>\n",
       "    <tr>\n",
       "      <th>2</th>\n",
       "      <td>76</td>\n",
       "      <td>DBWT</td>\n",
       "      <td>0.062291</td>\n",
       "    </tr>\n",
       "    <tr>\n",
       "      <th>7</th>\n",
       "      <td>81</td>\n",
       "      <td>PREVIS</td>\n",
       "      <td>0.035088</td>\n",
       "    </tr>\n",
       "    <tr>\n",
       "      <th>32</th>\n",
       "      <td>19</td>\n",
       "      <td>FHISPXclassVec_1</td>\n",
       "      <td>0.016353</td>\n",
       "    </tr>\n",
       "    <tr>\n",
       "      <th>3</th>\n",
       "      <td>77</td>\n",
       "      <td>FAGECOMB</td>\n",
       "      <td>0.013053</td>\n",
       "    </tr>\n",
       "    <tr>\n",
       "      <th>4</th>\n",
       "      <td>78</td>\n",
       "      <td>MAGER</td>\n",
       "      <td>0.012419</td>\n",
       "    </tr>\n",
       "    <tr>\n",
       "      <th>6</th>\n",
       "      <td>80</td>\n",
       "      <td>PRECARE</td>\n",
       "      <td>0.009843</td>\n",
       "    </tr>\n",
       "    <tr>\n",
       "      <th>52</th>\n",
       "      <td>39</td>\n",
       "      <td>MHISPXclassVec_1</td>\n",
       "      <td>0.009363</td>\n",
       "    </tr>\n",
       "  </tbody>\n",
       "</table>\n",
       "</div>"
      ],
      "text/plain": [
       "    idx                name     score\n",
       "74   61  RESTATUSclassVec_3  0.518754\n",
       "73   60  RESTATUSclassVec_2  0.157496\n",
       "72   59  RESTATUSclassVec_1  0.084976\n",
       "2    76                DBWT  0.062291\n",
       "7    81              PREVIS  0.035088\n",
       "32   19    FHISPXclassVec_1  0.016353\n",
       "3    77            FAGECOMB  0.013053\n",
       "4    78               MAGER  0.012419\n",
       "6    80             PRECARE  0.009843\n",
       "52   39    MHISPXclassVec_1  0.009363"
      ]
     },
     "execution_count": 44,
     "metadata": {},
     "output_type": "execute_result"
    }
   ],
   "source": [
    "ExtractFeatureImp(gbtModel.featureImportances, predictions_gbt, \"features\").head(10)"
   ]
  },
  {
   "cell_type": "code",
   "execution_count": 45,
   "metadata": {},
   "outputs": [
    {
     "name": "stdout",
     "output_type": "stream",
     "text": [
      "Test Accuracy = 0.995633\n",
      "Test weightedPrecision = 0.995592\n",
      "Test weightedRecall = 0.995633\n",
      "Test F1 = 0.994233\n"
     ]
    }
   ],
   "source": [
    "# Select (prediction, true label) and compute test error\n",
    "from pyspark.ml.evaluation import MulticlassClassificationEvaluator\n",
    "evaluator1 = MulticlassClassificationEvaluator(labelCol=\"label\", predictionCol=\"prediction\", metricName=\"accuracy\")\n",
    "evaluator2 = MulticlassClassificationEvaluator(labelCol=\"label\", predictionCol=\"prediction\", metricName=\"weightedPrecision\")\n",
    "evaluator3 = MulticlassClassificationEvaluator(labelCol=\"label\", predictionCol=\"prediction\", metricName=\"weightedRecall\")\n",
    "evaluator4 = MulticlassClassificationEvaluator(labelCol=\"label\", predictionCol=\"prediction\", metricName=\"f1\")\n",
    "accuracy = evaluator1.evaluate(predictions_gbt)\n",
    "precision = evaluator2.evaluate(predictions_gbt)\n",
    "recall = evaluator3.evaluate(predictions_gbt)\n",
    "f1 = evaluator4.evaluate(predictions_gbt)\n",
    "print(\"Test Accuracy = %g\" % (accuracy))\n",
    "print(\"Test weightedPrecision = %g\" % (precision))\n",
    "print(\"Test weightedRecall = %g\" % (recall))\n",
    "print(\"Test F1 = %g\" % (f1))"
   ]
  },
  {
   "cell_type": "code",
   "execution_count": 46,
   "metadata": {},
   "outputs": [
    {
     "name": "stdout",
     "output_type": "stream",
     "text": [
      "Test Area Under ROC: 0.7404542304567959\n"
     ]
    }
   ],
   "source": [
    "#ROC GBT\n",
    "evaluator = BinaryClassificationEvaluator()\n",
    "print(\"Test Area Under ROC: \" + str(evaluator.evaluate(predictions_gbt, {evaluator.metricName: \"areaUnderROC\"})))"
   ]
  },
  {
   "cell_type": "code",
   "execution_count": 47,
   "metadata": {},
   "outputs": [],
   "source": [
    "del gbtModel\n",
    "del predictions_gbt"
   ]
  },
  {
   "cell_type": "code",
   "execution_count": 48,
   "metadata": {},
   "outputs": [],
   "source": [
    "del test\n",
    "del train"
   ]
  },
  {
   "cell_type": "code",
   "execution_count": 49,
   "metadata": {},
   "outputs": [],
   "source": [
    "#from pyspark.ml.tuning import ParamGridBuilder, CrossValidator\n",
    "#paramGrid = (ParamGridBuilder()\n",
    "#             .addGrid(gbt.maxDepth, [2, 4, 6])\n",
    "#             .addGrid(gbt.maxBins, [20, 60])\n",
    "#             .addGrid(gbt.maxIter, [10, 20])\n",
    "#             .build())\n",
    "#cv = CrossValidator(estimator=gbt, estimatorParamMaps=paramGrid, evaluator=evaluator, numFolds=5)\n",
    "# Run cross validations.  This can take about 6 minutes since it is training over 20 trees!\n",
    "#cvModel = cv.fit(train)\n",
    "#predictions_cv = cvModel.transform(test)\n",
    "#evaluator.evaluate(predictions_cv)"
   ]
  },
  {
   "cell_type": "code",
   "execution_count": 50,
   "metadata": {},
   "outputs": [],
   "source": [
    "#evaluator1 = MulticlassClassificationEvaluator(labelCol=\"label\", predictionCol=\"prediction\", metricName=\"accuracy\")\n",
    "#evaluator2 = MulticlassClassificationEvaluator(labelCol=\"label\", predictionCol=\"prediction\", metricName=\"weightedPrecision\")\n",
    "#evaluator3 = MulticlassClassificationEvaluator(labelCol=\"label\", predictionCol=\"prediction\", metricName=\"weightedRecall\")\n",
    "#evaluator4 = MulticlassClassificationEvaluator(labelCol=\"label\", predictionCol=\"prediction\", metricName=\"f1\")\n",
    "#accuracy = evaluator1.evaluate(predictions_cv)\n",
    "#precision = evaluator2.evaluate(predictions_cv)\n",
    "#recall = evaluator3.evaluate(predictions_cv)\n",
    "#f1 = evaluator4.evaluate(predictions_cv)\n",
    "#print(\"Test Accuracy = %g\" % (accuracy))\n",
    "#print(\"Test weightedPrecision = %g\" % (precision))\n",
    "#print(\"Test weightedRecall = %g\" % (recall))\n",
    "#print(\"Test F1 = %g\" % (f1))"
   ]
  },
  {
   "cell_type": "code",
   "execution_count": 51,
   "metadata": {},
   "outputs": [],
   "source": [
    "#solution of imblanced classification\n",
    "#Always split into test and train sets BEFORE trying oversampling techniques"
   ]
  },
  {
   "cell_type": "code",
   "execution_count": null,
   "metadata": {},
   "outputs": [],
   "source": []
  }
 ],
 "metadata": {
  "kernelspec": {
   "display_name": "Python 3",
   "language": "python",
   "name": "python3"
  },
  "language_info": {
   "codemirror_mode": {
    "name": "ipython",
    "version": 3
   },
   "file_extension": ".py",
   "mimetype": "text/x-python",
   "name": "python",
   "nbconvert_exporter": "python",
   "pygments_lexer": "ipython3",
   "version": "3.7.3"
  }
 },
 "nbformat": 4,
 "nbformat_minor": 4
}
